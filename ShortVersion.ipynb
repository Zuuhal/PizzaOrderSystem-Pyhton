{
  "nbformat": 4,
  "nbformat_minor": 0,
  "metadata": {
    "colab": {
      "provenance": []
    },
    "kernelspec": {
      "name": "python3",
      "display_name": "Python 3"
    },
    "language_info": {
      "name": "python"
    },
    "accelerator": "GPU",
    "gpuClass": "standard"
  },
  "cells": [
    {
      "cell_type": "code",
      "execution_count": 1,
      "metadata": {
        "id": "CTl4Xl54bECZ"
      },
      "outputs": [],
      "source": [
        "import csv\n",
        "import datetime"
      ]
    },
    {
      "cell_type": "code",
      "source": [
        "pizza = {\n",
        "    'Klasik' : 10,\n",
        "    'Margarita' : 12,\n",
        "    'Turk' : 11,\n",
        "    'Sade' : 10\n",
        "}\n",
        "sos = { \n",
        "    \"Zeytin\" : 2,\n",
        "    \"Mantar\" : 3,\n",
        "    \"Keçi Peyniri\" : 3,\n",
        "    \"Et\" : 5,\n",
        "    \"Soğan\" : 4,\n",
        "    \"Mısır\" : 2\n",
        "}"
      ],
      "metadata": {
        "id": "-jFSLXt3rrNw"
      },
      "execution_count": null,
      "outputs": []
    },
    {
      "cell_type": "code",
      "source": [
        "def calc(pizz,so):\n",
        "  return pizza[pizz]+sos[so]\n"
      ],
      "metadata": {
        "id": "W9k4OKWqKjxt"
      },
      "execution_count": null,
      "outputs": []
    },
    {
      "cell_type": "code",
      "source": [
        "def main():\n",
        "\n",
        "  text = open('Menu.txt').read()\n",
        "  print(text)\n",
        "  piz = input(\"Pizza seçin :\")\n",
        "  soss = input(\"Sos seçin :\")\n",
        "  fiyat = calc(piz,soss)\n",
        "  print(\"Toplam tutar: \", fiyat )\n",
        "  ad = input(\"İsminizi giriniz: \")\n",
        "  tc = input(\"TCnizi giriniz: \")\n",
        "  kk = input(\"Ödeme yapmak için kredi kartı numaranızı giriniz: \")\n",
        "  pas = input(\"Şifrenizi giriniz: \")\n",
        "  siparis =  piz + \" pizza with \" +  soss\n",
        "  time = datetime.now();\n",
        "  with open('Orders_Database.csv', mode='a', newline='') as file:\n",
        "            writer = csv.writer(file)\n",
        "            writer.writerow([ad, tc, siparis, kk, pas, time, f\"{fiyat}TL\"])\n"
      ],
      "metadata": {
        "id": "3zXBE8WnkKFn"
      },
      "execution_count": null,
      "outputs": []
    },
    {
      "cell_type": "code",
      "source": [
        "main()"
      ],
      "metadata": {
        "colab": {
          "base_uri": "https://localhost:8080/"
        },
        "id": "v97Fg85SRRgf",
        "outputId": "eccc4781-6715-4f55-e906-19752ea97962"
      },
      "execution_count": null,
      "outputs": [
        {
          "name": "stdout",
          "output_type": "stream",
          "text": [
            "* Lütfen Bir Pizza Tabanı Seçiniz:\n",
            " Klasik : 10$\n",
            " Margarita : 12$\n",
            " TürkPizza : 11$\n",
            " Dominos : 10$\n",
            "\n",
            "* ve seçeceğiniz sos:\n",
            " Zeytin : 2$\n",
            " Mantar : 3$\n",
            " Keçi Peyniri : 3$\n",
            " Et : 5$\n",
            " Soğan : 4$\n",
            " Mısır : 2$\n",
            "Pizza seçin :Klasik\n",
            "Sos seçin :Et\n",
            "Toplam tutar:  15\n",
            "İsminizi giriniz: zuhal\n",
            "TCnizi giriniz: 4566\n",
            "Ödeme yapmak için kredi kartı numaranızı giriniz: 324\n",
            "Şifrenizi giriniz: 43\n"
          ]
        }
      ]
    },
    {
      "cell_type": "code",
      "source": [],
      "metadata": {
        "id": "rVaQFcJmqOM4"
      },
      "execution_count": null,
      "outputs": []
    }
  ]
}